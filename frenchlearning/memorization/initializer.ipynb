{
 "cells": [
  {
   "cell_type": "code",
   "execution_count": 1,
   "id": "f59ed415-6414-4901-ab2b-7a2fe69604a5",
   "metadata": {},
   "outputs": [
    {
     "ename": "ModuleNotFoundError",
     "evalue": "No module named 'classes'",
     "output_type": "error",
     "traceback": [
      "\u001b[1;31m---------------------------------------------------------------------------\u001b[0m",
      "\u001b[1;31mModuleNotFoundError\u001b[0m                       Traceback (most recent call last)",
      "Cell \u001b[1;32mIn[1], line 1\u001b[0m\n\u001b[1;32m----> 1\u001b[0m \u001b[38;5;28;01mfrom\u001b[39;00m \u001b[38;5;21;01mclasses\u001b[39;00m \u001b[38;5;28;01mimport\u001b[39;00m EasyWordPair, MediumWordPair, HardWordPair\n\u001b[0;32m      3\u001b[0m \u001b[38;5;28;01mdef\u001b[39;00m \u001b[38;5;21minitialize_word_pairs\u001b[39m():\n\u001b[0;32m      4\u001b[0m     word_pairs \u001b[38;5;241m=\u001b[39m []\n",
      "\u001b[1;31mModuleNotFoundError\u001b[0m: No module named 'classes'"
     ]
    }
   ],
   "source": [
    "from classes import EasyWordPair, MediumWordPair, HardWordPair\n",
    "\n",
    "def initialize_word_pairs():\n",
    "    word_pairs = []\n",
    "\n",
    "    easy_words = [\n",
    "        ('bonjour', 'hello'), ('chat', 'cat'), ('chien', 'dog'),\n",
    "        ('merci', 'thank you'), ('pomme', 'apple'), ('fromage', 'cheese'),\n",
    "        ('pain', 'bread'), ('eau', 'water'), ('lait', 'milk'), ('salut', 'hi'),\n",
    "    ]\n",
    "\n",
    "    medium_words = [\n",
    "        ('maison', 'house'), ('voiture', 'car'), ('livre', 'book'),\n",
    "        ('école', 'school'), ('arbre', 'tree'), ('chaise', 'chair'),\n",
    "        ('table', 'table'), ('fenêtre', 'window'), ('porte', 'door'), ('jardin', 'garden'),\n",
    "    ]\n",
    "\n",
    "    hard_words = [\n",
    "        ('ordinateur', 'computer'), ('hippopotame', 'hippopotamus'),\n",
    "        ('développement', 'development'), ('bibliothèque', 'library'),\n",
    "        ('psychologie', 'psychology'), ('pharmacie', 'pharmacy'),\n",
    "        ('aéroport', 'airport'), ('ascenseur', 'elevator'),\n",
    "        ('cimetière', 'cemetery'), ('immeuble', 'building'),\n",
    "    ]\n",
    "\n",
    "    for french, english in easy_words:\n",
    "        word_pairs.append(EasyWordPair(french, english))\n",
    "\n",
    "    for french, english in medium_words:\n",
    "        word_pairs.append(MediumWordPair(french, english))\n",
    "\n",
    "    for french, english in hard_words:\n",
    "        word_pairs.append(HardWordPair(french, english))\n",
    "\n",
    "    return word_pairs"
   ]
  },
  {
   "cell_type": "code",
   "execution_count": null,
   "id": "f632dff9-a25e-4a13-b4a4-c11b3baaa2a9",
   "metadata": {},
   "outputs": [],
   "source": []
  }
 ],
 "metadata": {
  "kernelspec": {
   "display_name": "Python 3 (ipykernel)",
   "language": "python",
   "name": "python3"
  },
  "language_info": {
   "codemirror_mode": {
    "name": "ipython",
    "version": 3
   },
   "file_extension": ".py",
   "mimetype": "text/x-python",
   "name": "python",
   "nbconvert_exporter": "python",
   "pygments_lexer": "ipython3",
   "version": "3.12.3"
  }
 },
 "nbformat": 4,
 "nbformat_minor": 5
}
